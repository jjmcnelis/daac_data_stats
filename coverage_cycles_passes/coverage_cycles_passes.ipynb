{
 "cells": [
  {
   "cell_type": "markdown",
   "id": "df389e49-3e92-49d2-96e9-5d82eed3507e",
   "metadata": {
    "editable": true,
    "slideshow": {
     "slide_type": ""
    },
    "tags": []
   },
   "source": [
    "# coverage_cycles_passes "
   ]
  },
  {
   "cell_type": "code",
   "execution_count": null,
   "id": "6ae8f01c-4d5b-4c55-9830-5fcfc722b57c",
   "metadata": {
    "editable": true,
    "slideshow": {
     "slide_type": ""
    },
    "tags": [
     "parameters"
    ]
   },
   "outputs": [],
   "source": [
    "dataset = \"\"\n",
    "token = \"\""
   ]
  },
  {
   "cell_type": "code",
   "execution_count": null,
   "id": "a62468cf-d484-42e5-8fe8-8e5f40c9eccc",
   "metadata": {
    "editable": true,
    "slideshow": {
     "slide_type": ""
    },
    "tags": []
   },
   "outputs": [],
   "source": [
    "#!/usr/bin/env python3 \n",
    "import os\n",
    "import json\n",
    "import requests\n",
    "import pandas as pd\n",
    "from tqdm import tqdm\n",
    "from io import StringIO\n",
    "from datetime import datetime\n",
    "tqdm.pandas()\n",
    "\n",
    "cmr: str = \"cmr.earthdata.nasa.gov\"\n",
    "\n",
    "#token: str = os.environ.get('URS_TOKEN')\n",
    "\n",
    "ShortName: str = f\"SWOT_{dataset}_1.0\"\n",
    "\n",
    "def _search(params: dict, concept: str=\"granules\", cmr: str=cmr, token: str=token, verbose: bool=True) -> list:\n",
    "    url: str = f\"https://{cmr}/search/{concept}.umm_json\"\n",
    "    headers: dict = {}\n",
    "    if token is not None:\n",
    "        headers['Authorization'] = f'Bearer {token}'\n",
    "    results: list = []\n",
    "    while True:\n",
    "        with requests.get(url=url, params=params, headers=headers) as r:\n",
    "            response = r.json()\n",
    "            if 'errors' in response:\n",
    "                raise Exception(response.get('errors'))\n",
    "            for k,v in r.headers.items():\n",
    "                if k.lower().startswith(\"cmr\"):\n",
    "                    headers.update({k.lower():v})\n",
    "        items = response.get(\"items\")\n",
    "        if type(items) is list:\n",
    "            if len(items)>0:\n",
    "                results.extend(items)\n",
    "        if verbose:\n",
    "            print((f\"[{datetime.utcnow().strftime('%H:%M:%S')}]\"\n",
    "                   f\" {len(results)} / {response.get('hits')}\"))\n",
    "        if any([items is None, \n",
    "                len(results)==response.get('hits'), \n",
    "                len(results)==headers.get('hits')]):\n",
    "            break\n",
    "    return results\n",
    "\n",
    "def search(provider: str=\"POCLOUD\", page_size: int=2000, pattern: str=None, **kwargs):\n",
    "    params: dict = {'provider':provider, 'page_size':page_size}\n",
    "    if pattern is not None and pattern in kwargs:\n",
    "        params[f'options[{pattern}][pattern]'] = 'true'\n",
    "        params[f'{pattern}[]'] = kwargs.get(pattern)\n",
    "        del kwargs[pattern]\n",
    "    params.update(kwargs)\n",
    "    collections = _search(params=params, concept=\"collections\")\n",
    "    granules= _search(params=params)\n",
    "    return collections, granules"
   ]
  },
  {
   "cell_type": "code",
   "execution_count": null,
   "id": "2d1f023e-a2e2-4a5a-bc0d-afd598b4e5f8",
   "metadata": {},
   "outputs": [],
   "source": [
    "results = search(ShortName=ShortName, pattern=\"ShortName\")"
   ]
  },
  {
   "cell_type": "code",
   "execution_count": null,
   "id": "1611d3a1-e969-4210-9de7-630c97f2a52a",
   "metadata": {},
   "outputs": [],
   "source": [
    "coll = pd.concat(pd.Series(results[0]).apply(pd.json_normalize).tolist()).set_index(\"umm.ShortName\")\n",
    "\n",
    "gran = pd.DataFrame(results[1])\n",
    "gran['revision-id'] = gran.meta.apply(lambda x: x.get(\"revision-id\"))\n",
    "gran['concept-id'] = gran.meta.apply(lambda x: x.get(\"concept-id\"))\n",
    "gran['native-id'] = gran.meta.apply(lambda x: x.get(\"native-id\"))\n",
    "gran['GranuleUR'] = gran.umm.apply(lambda x: x.get(\"GranuleUR\"))\n",
    "gran['ShortName'] = gran.umm.apply(lambda x: x.get(\"CollectionReference\") \\\n",
    "                                              .get(\"ShortName\")).tolist()\n",
    "gran['Cycle'] = gran.GranuleUR.apply(lambda x: int(x.split(\"_\")[4]))\n",
    "gran['Pass'] = gran.GranuleUR.apply(lambda x: int(x.split(\"_\")[5]))\n",
    "gran['Track'] = gran.umm.apply(lambda x: x.get('SpatialExtent') \\\n",
    "                                          .get('HorizontalSpatialDomain') \\\n",
    "                                          .get(\"Track\")).tolist()\n",
    "\n",
    "gran['HasTrack'] = (~gran.Track.isnull()).tolist()\n",
    "gran.loc[gran['HasTrack'],'TrackCycle'] = gran[gran['HasTrack']].Track \\\n",
    "    .apply(lambda x: x['Cycle'])\n",
    "\n",
    "gran['TrackCycle'] = gran.TrackCycle.fillna(0.0).astype(int)\n",
    "gran.loc[gran['HasTrack'],'TrackPass'] = gran[gran['HasTrack']].Track \\\n",
    "    .apply(lambda x: x['Passes'][0].get(\"Pass\"))\n",
    "\n",
    "gran['TrackPass'] = gran.TrackPass.fillna(0.0).astype(int)\n",
    "gran['TrackMatch'] = gran.apply(lambda x: [x.Cycle,x.Pass]==[x.TrackCycle,x.TrackPass], axis=1)\n",
    "\n",
    "print(\"Cycle/pass metadata status:\", gran.TrackMatch.sum(), \"/\", gran.index.size)"
   ]
  },
  {
   "cell_type": "markdown",
   "id": "b7254f1e-4446-49b6-bb27-1a3d183c1c09",
   "metadata": {},
   "source": [
    "Print some granule records by their cycle and pass numbers, or not:"
   ]
  },
  {
   "cell_type": "code",
   "execution_count": null,
   "id": "df33dd11-b01e-4c78-9495-80c47d73df74",
   "metadata": {},
   "outputs": [],
   "source": [
    "cycles, passes = [407], [1]\n",
    "\n",
    "print(json.dumps(gran[gran.Cycle.isin(cycles) & gran.Pass.isin(passes)].to_dict(\"records\"), indent=2))"
   ]
  },
  {
   "cell_type": "code",
   "execution_count": null,
   "id": "0e88bdc3-f4a1-4db3-b771-8a02efb41631",
   "metadata": {},
   "outputs": [],
   "source": [
    "gran['CRID'] = gran.apply(lambda x: f\"{x.umm.get('GranuleUR').split('_')[-2]}\", axis=1)\n",
    "bycrid = gran.groupby(['Cycle','Pass']).CRID \\\n",
    "    .apply(lambda x: f\"{sorted(x)[-1]}\").to_frame().reset_index() \\\n",
    "    .pivot(index=\"Cycle\", columns=\"Pass\", values='CRID')\n",
    "\n",
    "gran['Versions'] = gran.apply(lambda x: f\"{x.umm.get('GranuleUR').split('_')[-1]}\", axis=1)\n",
    "byvers = gran.groupby(['Cycle','Pass']).Versions \\\n",
    "    .apply(lambda x: f\"{x.count()}\").to_frame().reset_index() \\\n",
    "    .pivot(index=\"Cycle\", columns=\"Pass\", values='Versions')\n",
    "\n",
    "gran['String'] = gran.apply(lambda x: f\"{x.umm.get('GranuleUR').split('_')[-2]}\", axis=1)\n",
    "tmp = gran.groupby(['Cycle','String']).GranuleUR.count().reset_index() \\\n",
    "    .pivot(index=\"Cycle\", columns=\"String\").fillna(0.0).astype(int)\n",
    "tmp['Granules'] = tmp.index.to_series().apply(lambda x: gran[gran.Cycle==x].sort_values(\"Pass\")).tolist()\n",
    "\n",
    "cycles = sorted(tmp.index.tolist(), reverse=False)\n",
    "\n",
    "def datefmt(x: str):\n",
    "    return datetime.strptime(x, \"%Y%m%dT%H%M%S\").strftime(\"%-m/%-d %H:%M\")\n",
    "\n",
    "tstamps = tmp.apply(lambda x: (\n",
    "        datefmt(x.Granules.iloc[0].GranuleUR.iloc[0].split(\"_\")[6]), \n",
    "        datefmt(x.Granules.iloc[-1].GranuleUR.iloc[-1].split(\"_\")[7]), ), axis=1) \\\n",
    "    .apply(lambda x: f\"{x[0]}\\n{x[1]}\")\n",
    "\n",
    "tmpbycrid = bycrid.sort_index(ascending=False).copy()\n",
    "\n",
    "tmpbycrid['n / 28'] = (~tmpbycrid.isnull()).apply(lambda x: f\"{(int(x.mean().round(2)*100))}%\".rjust(4,\" \"), axis=1)\n",
    "\n",
    "tmpbyvers = byvers.sort_index(ascending=False).copy().reset_index(drop=True)"
   ]
  },
  {
   "cell_type": "code",
   "execution_count": null,
   "id": "000edefd-638d-414a-945d-ba687ed0a799",
   "metadata": {},
   "outputs": [],
   "source": [
    "import warnings\n",
    "import numpy as np\n",
    "import matplotlib.pyplot as plt\n",
    "import matplotlib.dates as mdates\n",
    "import matplotlib.colors as mcolors\n",
    "import matplotlib.gridspec as gridspec\n",
    "import matplotlib.font_manager as mfonts\n",
    "from matplotlib import MatplotlibDeprecationWarning, cm, rc\n",
    "\n",
    "warnings.filterwarnings(\"ignore\", category=MatplotlibDeprecationWarning)\n",
    "\n",
    "rc('text', usetex=False)\n",
    "\n",
    "fig = plt.figure(figsize=(20, 64))\n",
    "\n",
    "gs = gridspec.GridSpec(1, 2, width_ratios=[1.0, 3.75])\n",
    "\n",
    "plt.autoscale(tight=True)\n",
    "\n",
    "ax1 = plt.subplot(gs[0])\n",
    "\n",
    "tmp.T.reset_index().T.iloc[1:].T.set_index(\"String\").T.plot.barh(stacked=True, width=0.6, ax=ax1)\n",
    "\n",
    "ax1.tick_params(top=True, labeltop=True, bottom=True, labelbottom=False, left=True, labelleft=True, right=False, labelright=False)\n",
    "ax1.set_yticklabels(tstamps, fontsize=11, weight='semibold', )\n",
    "plt.setp(ax1.get_xticklabels(), fontsize=11, weight=\"semibold\")\n",
    "ax1.axvline(x=28, color=\"black\", alpha=0.75, )\n",
    "ax1.set_frame_on(False)\n",
    "ax1.set_ylabel(None)\n",
    "ax1.set_xlabel(None)\n",
    "ax1.set_xlim(0, 35)\n",
    "ax1.grid(alpha=0.5)\n",
    "\n",
    "plt.legend(title=False, facecolor=\"white\", edgecolor=\"black\", loc=\"upper right\", framealpha=0.8, fontsize=11, shadow=True) \n",
    "\n",
    "ax2 = plt.subplot(gs[1])\n",
    "\n",
    "ax2.axis('off')\n",
    "\n",
    "tab = pd.plotting.table(ax=ax2, data=tmpbycrid, cellLoc='center', rowLoc='center', bbox=[0.000, 0.000, 1.000, 1.0067], )\n",
    "tab.auto_set_font_size(False)\n",
    "tab.set_fontsize(10.5)\n",
    "tab.scale(1.0, 1.0)\n",
    "\n",
    "max_vers = int(tmpbyvers.astype(float).max().max())\n",
    "\n",
    "cmap_colors = dict(zip(list(range(2, max_vers+1)), [\"yellow\", \"orange\", \"red\"]))\n",
    "\n",
    "if False:\n",
    "    cmap_scale = cm.ScalarMappable(norm=plt.Normalize(vmin=2, vmax=max_vers-1), \n",
    "                                   cmap=mcolors.LinearSegmentedColormap.from_list(\"\", cmap_colors))\n",
    "    cmap_colors = {i: cmap_scale.to_rgba(i) for i in list(cmap_colors)}\n",
    "\n",
    "for (row, col), cell in tab.get_celld().items():\n",
    "    if row % 2 == 1:\n",
    "        cell.set_facecolor(\"gray\")\n",
    "        cell.set_alpha(0.20)\n",
    "    if (row == 0) or (col == -1) or (col == 28):\n",
    "        cell.set_text_props(fontproperties=mfonts.FontProperties(weight='semibold', size=11))\n",
    "        cell.set_text_props(color=\"white\")\n",
    "        cell.set_facecolor(\"black\")\n",
    "        cell.set_alpha(0.75)\n",
    "    else:\n",
    "        try:\n",
    "            value = tmpbyvers.iloc[row-1, col]\n",
    "        except IndexError as e:\n",
    "            print(\"IndexError:\", row, col)\n",
    "        else:\n",
    "            if str(value)=='nan':\n",
    "                cell.set_facecolor(\"red\")\n",
    "                cell.set_alpha(0.5)\n",
    "            elif int(value) in list(cmap_colors):\n",
    "                cell.set_edgecolor(cmap_colors.get(int(value)))\n",
    "                cell.set_linewidth(3.0)\n",
    "            else:\n",
    "                pass\n",
    "\n",
    "plt.tight_layout()\n",
    "\n",
    "plt.savefig(f'tests/{dataset}.png', bbox_inches='tight', transparent=False)"
   ]
  },
  {
   "cell_type": "code",
   "execution_count": null,
   "id": "016dce02-97bc-4b0a-8444-b236baac16d2",
   "metadata": {},
   "outputs": [],
   "source": []
  }
 ],
 "metadata": {
  "kernelspec": {
   "display_name": "podaacvenv",
   "language": "python",
   "name": "podaacvenv"
  },
  "language_info": {
   "codemirror_mode": {
    "name": "ipython",
    "version": 3
   },
   "file_extension": ".py",
   "mimetype": "text/x-python",
   "name": "python",
   "nbconvert_exporter": "python",
   "pygments_lexer": "ipython3",
   "version": "3.11.2"
  }
 },
 "nbformat": 4,
 "nbformat_minor": 5
}
